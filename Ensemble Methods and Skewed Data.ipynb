{
 "cells": [
  {
   "cell_type": "markdown",
   "metadata": {},
   "source": [
    "\n",
    "\n",
    "# Ensemble Methods and Skewed Data\n",
    "\n",
    "## Aditya Patel\n",
    "\n",
    "We are going explore two ensemble methods:\n",
    "\n",
    "  - AdaBoost, and\n",
    "  - Random Forests\n",
    "  \n",
    "Along with applying different KPIs (key performance indicators) that are more appropriate to highly skewed data sets. \n",
    "\n",
    "The dataset contains transactions made by credit cards in September 2013 by european cardholders.\n",
    "This dataset presents transactions that occurred in two days, where we have 237 frauds out of 142,167 transactions. The dataset is highly unbalanced, the positive class (frauds) account for 0.17% of all transactions.\n",
    "\n",
    "It contains only numerical input variables which are the result of a [PCA transformation](https://en.wikipedia.org/wiki/Principal_component_analysis). Unfortunately, due to confidentiality issues, we cannot provide the original features and more background information about the data. Features V1, V2, … V28 are the principal components obtained with PCA, the only features which have not been transformed with PCA are 'Time' and 'Amount'. Feature 'Time' contains the seconds elapsed between each transaction and the first transaction in the dataset. The feature 'Amount' is the transaction Amount in Euros. Feature 'Class' is the response variable and it takes value 1 in case of fraud and 0 otherwise.\n"
   ]
  },
  {
   "cell_type": "code",
   "execution_count": 1,
   "metadata": {},
   "outputs": [],
   "source": [
    "import pandas as pd\n",
    "import numpy as np\n",
    "import matplotlib.pyplot as plt\n",
    "%matplotlib inline\n",
    "from sklearn.ensemble import AdaBoostClassifier\n",
    "from sklearn.ensemble import RandomForestClassifier\n",
    "from sklearn.model_selection import StratifiedKFold\n",
    "from sklearn.metrics import plot_roc_curve\n",
    "\n",
    "# This is the credit card data provided, we'll use sklearn methods to do cross validation\n",
    "# to estimate error\n",
    "df_cc = pd.read_csv('cc.csv')"
   ]
  },
  {
   "cell_type": "markdown",
   "metadata": {},
   "source": [
    "## Q1 Parition the data for cross validation\n",
    "\n",
    "\n",
    "\n",
    "We know this is a _super_ skewed data set, so we worry about our target class being underrepresented in a random k-fold selection. With this in mind, we use a [stratifed k-fold](https://scikit-learn.org/stable/modules/generated/sklearn.model_selection.StratifiedKFold.html), since it will preserve our class balance in our experiements. Use $k=3$, . Instantiate an instance of the `StratifiedKFold` class, and use the generator `split` to populate the test and train dictonaries:\n",
    "   - `d_train_df_X` : key is the fold number, value is the attribute training dataframe at that fold\n",
    "   - `d_test_df_X`  : key is the fold number, value is the attribute test dataframe at that fold\n",
    "   - `d_train_s_y`  : key is the fold number, value is the target training series at that fold\n",
    "   - `d_train_s_y`  : key is the fold number, value is the target test series at that fold"
   ]
  },
  {
   "cell_type": "code",
   "execution_count": 2,
   "metadata": {},
   "outputs": [],
   "source": [
    "df_X = df_cc.drop(columns=['Class'])\n",
    "s_y = df_cc['Class']"
   ]
  },
  {
   "cell_type": "code",
   "execution_count": 3,
   "metadata": {},
   "outputs": [],
   "source": [
    "skf = StratifiedKFold(n_splits=3,shuffle=True,random_state=23)"
   ]
  },
  {
   "cell_type": "code",
   "execution_count": 4,
   "metadata": {},
   "outputs": [],
   "source": [
    "d_train_df_X = dict()\n",
    "d_test_df_X = dict()\n",
    "d_train_s_y = dict()\n",
    "d_test_s_y = dict()\n",
    "\n",
    "\n",
    "fold = 1\n",
    "for train_index, test_index in skf.split(df_X, s_y):\n",
    "    X_train, X_test = df_X.iloc[train_index], df_X.iloc[test_index]\n",
    "    y_train, y_test = s_y.iloc[train_index], s_y.iloc[test_index]\n",
    "    d_train_df_X[fold] = X_train\n",
    "    d_test_df_X[fold] = X_test\n",
    "    d_train_s_y[fold] = y_train\n",
    "    d_test_s_y[fold] = y_test\n",
    "    fold += 1"
   ]
  },
  {
   "cell_type": "code",
   "execution_count": 5,
   "metadata": {
    "scrolled": true
   },
   "outputs": [
    {
     "name": "stdout",
     "output_type": "stream",
     "text": [
      "0    47389\n",
      "1       79\n",
      "Name: Class, dtype: int64\n",
      "0    47389\n",
      "1       79\n",
      "Name: Class, dtype: int64\n",
      "0    47389\n",
      "1       79\n",
      "Name: Class, dtype: int64\n"
     ]
    }
   ],
   "source": [
    "# Look at the test data and verify that the target training is equally distributed as possible\n",
    "for key in d_test_s_y.keys():\n",
    "    print(d_test_s_y[key].value_counts())"
   ]
  },
  {
   "cell_type": "markdown",
   "metadata": {},
   "source": [
    "## AdaBoost"
   ]
  },
  {
   "cell_type": "markdown",
   "metadata": {},
   "source": [
    "# Testing the Performance of AdaBoost\n"
   ]
  },
  {
   "cell_type": "code",
   "execution_count": 6,
   "metadata": {},
   "outputs": [],
   "source": [
    "k = 3\n",
    "acc_ab = np.zeros(k)\n",
    "tpr_ab = np.zeros(k)\n",
    "ppv_ab = np.zeros(k)\n",
    "fpr_ab = np.zeros(k)"
   ]
  },
  {
   "cell_type": "code",
   "execution_count": 22,
   "metadata": {},
   "outputs": [
    {
     "data": {
      "image/png": "[encoded data removed]",
      "text/plain": [
       "<Figure size 864x432 with 1 Axes>"
      ]
     },
     "metadata": {
      "needs_background": "light"
     },
     "output_type": "display_data"
    }
   ],
   "source": [
    "\n",
    "fig, ax = plt.subplots(figsize=(12,6))\n",
    "for key in d_train_df_X.keys():\n",
    "    ada = AdaBoostClassifier(n_estimators=25, random_state=23)\n",
    "    ada.fit(d_train_df_X[key], d_train_s_y[key])\n",
    "    predict = ada.predict(d_test_df_X[key])\n",
    "    correct = np.sum(predict == d_test_s_y[key].to_numpy())\n",
    "    acc = (correct/d_test_s_y[key].size)\n",
    "    acc_ab = np.append(acc_ab, acc)\n",
    "    \n",
    "    tp = (np.sum(np.logical_and(predict == 1,d_test_s_y[key].to_numpy() == 1)))\n",
    "    fp = (np.sum(np.logical_and(predict == 1, d_test_s_y[key].to_numpy() == 0)))\n",
    "    tn = (np.sum(np.logical_and(predict == 0, d_test_s_y[key].to_numpy() == 0)))\n",
    "    fn = (np.sum(np.logical_and(predict == 0, d_test_s_y[key].to_numpy() == 1)))\n",
    "    \n",
    "    tpr = tp/(tp + fn)\n",
    "    tpr_ab = np.append(tpr_ab, tpr)\n",
    "    \n",
    "    ppv = tp/(tp + fp)\n",
    "    ppv_ab = np.append(ppv_ab, ppv)\n",
    "    \n",
    "    fpr = fp/(fp+tn)\n",
    "    fpr_ab = np.append(fpr_ab, fpr)\n",
    "    \n",
    "    if key == 3:\n",
    "        y_hat_ab = predict\n",
    "    boom = plot_roc_curve(ada, d_test_df_X[key], d_test_s_y[key], name = (\"Fold\" + str(key)),alpha = 0.6,lw = 1, ax = ax) \n",
    "\n",
    "    \n",
    "ax.plot([0,1],[0,1],linestyle = '--', lw = 2, color = 'r', label = \"Chance\", alpha = 0.8)\n",
    "plt.show()\n",
    "    \n",
    "\n",
    "        \n",
    "\n",
    "# Since we appended values onto the arrays the first 3 elements are 0 so we are removing them from the array\n",
    "    \n",
    "for i in range(3):\n",
    "    tpr_ab = np.delete(tpr_ab, 0)\n",
    "    ppv_ab = np.delete(ppv_ab, 0)\n",
    "    fpr_ab = np.delete(fpr_ab,0)\n",
    "    acc_ab = np.delete(acc_ab, 0)\n"
   ]
  },
  {
   "cell_type": "code",
   "execution_count": 23,
   "metadata": {},
   "outputs": [
    {
     "name": "stdout",
     "output_type": "stream",
     "text": [
      "The min, mean, and max TPR are: 0.62, 0.65, and 0.71\n",
      "The min, mean, and max PPV are: 0.75, 0.79, and 0.82\n",
      "The min, mean, and max ACC are: 1.00, 1.00, and 1.00\n"
     ]
    }
   ],
   "source": [
    "print('The min, mean, and max TPR are: {:.2f}, {:.2f}, and {:.2f}'.format(tpr_ab.min(), tpr_ab.mean(), tpr_ab.max()))\n",
    "print('The min, mean, and max PPV are: {:.2f}, {:.2f}, and {:.2f}'.format(ppv_ab.min(), ppv_ab.mean(), ppv_ab.max()))\n",
    "print('The min, mean, and max ACC are: {:.2f}, {:.2f}, and {:.2f}'.format(acc_ab.min(), acc_ab.mean(), acc_ab.max()))"
   ]
  },
  {
   "cell_type": "markdown",
   "metadata": {},
   "source": [
    "##  Testing the Performance of Random Forests\n",
    "\n",
    "\n",
    "We will build complete trees, with no pruning.  That means every leaf in the tree will be completelely pure, and if you exam an individual Decision Tree it would be overtrained to our training set.  While building the decision trees, at every internal node, we select $p$ attributes at random, and then find the best split that minimizes impurtity.  The value, $p$, is a hyperparamter of the Random Forest and corresponds to the `max_features` parameter in the Random Forest Class. \n"
   ]
  },
  {
   "cell_type": "code",
   "execution_count": 24,
   "metadata": {},
   "outputs": [],
   "source": [
    "k = 3\n",
    "acc_rf = np.zeros(k)\n",
    "tpr_rf = np.zeros(k)\n",
    "ppv_rf = np.zeros(k)\n",
    "fpr_rf = np.zeros(k)"
   ]
  },
  {
   "cell_type": "code",
   "execution_count": 25,
   "metadata": {},
   "outputs": [
    {
     "data": {
      "image/png": "[encoded data removed]",
      "text/plain": [
       "<Figure size 864x432 with 1 Axes>"
      ]
     },
     "metadata": {
      "needs_background": "light"
     },
     "output_type": "display_data"
    }
   ],
   "source": [
    "fig, ax = plt.subplots(figsize = (12,6))\n",
    "\n",
    "for key in d_train_df_X.keys():\n",
    "    rfc = RandomForestClassifier(criterion=\"entropy\", max_features=\"sqrt\", random_state=23)\n",
    "    rfc.fit(d_train_df_X[key], d_train_s_y[key])\n",
    "    predict = rfc.predict(d_test_df_X[key])\n",
    "    correct = np.sum(predict == d_test_s_y[key].to_numpy())\n",
    "    acc = (correct/d_test_s_y[key].size)\n",
    "    acc = (correct/d_test_s_y[key].size)\n",
    "    acc_rf = np.append(acc_rf, acc)\n",
    "    \n",
    "    tp = (np.sum(np.logical_and(predict == 1,d_test_s_y[key].to_numpy() == 1)))\n",
    "    fp = (np.sum(np.logical_and(predict == 1, d_test_s_y[key].to_numpy() == 0)))\n",
    "    tn = (np.sum(np.logical_and(predict == 0, d_test_s_y[key].to_numpy() == 0)))\n",
    "    fn = (np.sum(np.logical_and(predict == 0, d_test_s_y[key].to_numpy() == 1)))\n",
    "    \n",
    "    tpr = tp/(tp + fn)\n",
    "    tpr_rf = np.append(tpr_rf, tpr)\n",
    "    \n",
    "    ppv = tp/(tp + fp)\n",
    "    ppv_rf = np.append(ppv_rf, ppv)\n",
    "    \n",
    "    fpr = fp/(fp+tn)\n",
    "    fpr_rf = np.append(fpr_rf, fpr)\n",
    "    \n",
    "    if key == 3:\n",
    "        y_hat_rf = predict\n",
    "\n",
    "    boom = plot_roc_curve(ada, d_test_df_X[key], d_test_s_y[key], name = (\"Fold\" + str(key)),alpha = 0.6,lw = 1, ax = ax) \n",
    "\n",
    "ax.plot([0,1],[0,1],linestyle = '--', lw = 2, color = 'r', label = \"Chance\", alpha = 0.8)\n",
    "plt.show()\n",
    "    \n",
    "\n",
    "# Since we appended values onto the arrays the first 3 elements are 0 so we are removing them from the array\n",
    "    \n",
    "for i in range(3):\n",
    "    tpr_rf = np.delete(tpr_rf, 0)\n",
    "    ppv_rf = np.delete(ppv_rf, 0)\n",
    "    fpr_rf = np.delete(fpr_rf,0)\n",
    "    acc_rf = np.delete(acc_rf, 0)\n",
    "    "
   ]
  },
  {
   "cell_type": "code",
   "execution_count": 10,
   "metadata": {},
   "outputs": [
    {
     "name": "stdout",
     "output_type": "stream",
     "text": [
      "The min, mean, and max TPR are: 0.75, 0.78, and 0.80\n",
      "The min, mean, and max PPV are: 0.92, 0.93, and 0.95\n",
      "The min, mean, and max ACC are: 1.00, 1.00, and 1.00\n"
     ]
    }
   ],
   "source": [
    "print('The min, mean, and max TPR are: {:.2f}, {:.2f}, and {:.2f}'.format(tpr_rf.min(), tpr_rf.mean(), tpr_rf.max()))\n",
    "print('The min, mean, and max PPV are: {:.2f}, {:.2f}, and {:.2f}'.format(ppv_rf.min(), ppv_rf.mean(), ppv_rf.max()))\n",
    "print('The min, mean, and max ACC are: {:.2f}, {:.2f}, and {:.2f}'.format(acc_rf.min(), acc_rf.mean(), acc_rf.max()))"
   ]
  },
  {
   "cell_type": "markdown",
   "metadata": {},
   "source": [
    "# Calculating the Cost of Fraud \n",
    "\n",
    "For the purpose of this project, lets assume:\n",
    "\n",
    "For every fraudulent transaction that is not predicted as fraudulent the bank looses twice that much money.  So, a fradulent charge for €10 is undectected, it costs the bank €20.  Also, if a charge is predicted as fradulent, but wasn't, it costs the bank a flat fee of €3 in customer service support to communicate with the customer, and mark the possible fraud as a normal transaction. \n",
    "\n"
   ]
  },
  {
   "cell_type": "code",
   "execution_count": 12,
   "metadata": {},
   "outputs": [
    {
     "name": "stdout",
     "output_type": "stream",
     "text": [
      "Total Amount lost due to inconsistencies with AdaBoost: 8538.32\n",
      "Total Amount lost due to inconsistencies with Random Forests: 4363.38\n"
     ]
    }
   ],
   "source": [
    "amount0 =  0\n",
    "amount1 = 0\n",
    "for i in range(len(d_test_s_y[3])):\n",
    "    if d_test_s_y[3].iloc[i] == 1 and y_hat_ab[i] == 0 :\n",
    "        amount0 += float((d_test_df_X[3].iloc[i][\"Amount\"])) * 2\n",
    "    if y_hat_ab[i] == 1 and d_test_s_y[3].iloc[i] == 0:\n",
    "        amount0 += 3\n",
    "\n",
    "for i in range(len(d_test_s_y[3])):\n",
    "    if d_test_s_y[3].iloc[i] == 1 and y_hat_rf[i] == 0 :\n",
    "        amount1 += float((d_test_df_X[3].iloc[i][\"Amount\"])) * 2\n",
    "    if y_hat_rf[i] == 1 and d_test_s_y[3].iloc[i] == 0:\n",
    "        amount1 += 3\n",
    "\n",
    "        \n",
    "        \n",
    "print(\"Total Amount lost due to inconsistencies with AdaBoost:\",amount0)\n",
    "print(\"Total Amount lost due to inconsistencies with Random Forests:\",amount1)"
   ]
  },
  {
   "cell_type": "markdown",
   "metadata": {},
   "source": [
    "### Mr Bank man will save more money, if we deploy the Random Forests algorithm! "
   ]
  }
 ],
 "metadata": {
  "kernelspec": {
   "display_name": "Python 3",
   "language": "python",
   "name": "python3"
  },
  "language_info": {
   "codemirror_mode": {
    "name": "ipython",
    "version": 3
   },
   "file_extension": ".py",
   "mimetype": "text/x-python",
   "name": "python",
   "nbconvert_exporter": "python",
   "pygments_lexer": "ipython3",
   "version": "3.8.8"
  }
 },
 "nbformat": 4,
 "nbformat_minor": 4
}
